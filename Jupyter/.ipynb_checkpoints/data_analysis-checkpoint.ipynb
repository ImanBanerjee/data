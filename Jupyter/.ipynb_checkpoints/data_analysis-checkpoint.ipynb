{
 "cells": [
  {
   "cell_type": "markdown",
   "id": "1787f005-d55a-4028-aa3e-380e7878d483",
   "metadata": {},
   "source": [
    "# Import Pandas"
   ]
  },
  {
   "cell_type": "code",
   "execution_count": 3,
   "id": "6bf277c2-b382-45ca-968a-1383b65fb8e0",
   "metadata": {},
   "outputs": [],
   "source": [
    "import pandas as pd"
   ]
  },
  {
   "cell_type": "markdown",
   "id": "99c5b50b-9340-4c38-baae-d0f14b9b5c74",
   "metadata": {},
   "source": [
    "# Importing Data"
   ]
  },
  {
   "cell_type": "code",
   "execution_count": 37,
   "id": "c2788253-3a24-4453-8b1e-e7b35d6a2192",
   "metadata": {
    "scrolled": true
   },
   "outputs": [],
   "source": [
    "# Set the option to display all rows\n",
    "pd.set_option(\"display.max_rows\", None)\n",
    "\n",
    "# Define column names\n",
    "names = [\"id\", \"title\", \"year\", \"rating\", \"votes\", \"length\", \"genres\"]\n",
    "\n",
    "# Combine the code into a single variable named 'data'\n",
    "data = pd.read_csv(\"imdb_top_10000.txt\", sep=\"\\t\", names=names, index_col=0)"
   ]
  },
  {
   "cell_type": "code",
   "execution_count": null,
   "id": "dcdcd414-90df-4ff9-b591-79051cc06b64",
   "metadata": {},
   "outputs": [],
   "source": []
  },
  {
   "cell_type": "code",
   "execution_count": null,
   "id": "c51b7b5c-6756-4338-a7de-194c31200890",
   "metadata": {},
   "outputs": [],
   "source": []
  }
 ],
 "metadata": {
  "kernelspec": {
   "display_name": "Python 3 (ipykernel)",
   "language": "python",
   "name": "python3"
  },
  "language_info": {
   "codemirror_mode": {
    "name": "ipython",
    "version": 3
   },
   "file_extension": ".py",
   "mimetype": "text/x-python",
   "name": "python",
   "nbconvert_exporter": "python",
   "pygments_lexer": "ipython3",
   "version": "3.12.0"
  }
 },
 "nbformat": 4,
 "nbformat_minor": 5
}
